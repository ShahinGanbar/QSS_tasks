{
 "cells": [
  {
   "cell_type": "code",
   "execution_count": 1,
   "id": "3b7e5b6c",
   "metadata": {},
   "outputs": [
    {
     "name": "stdout",
     "output_type": "stream",
     "text": [
      "Requirement already satisfied: beautifulsoup4 in c:\\shahinganbar\\qss\\week8_day1_cs\\venv\\lib\\site-packages (4.13.4)\n",
      "Requirement already satisfied: requests in c:\\shahinganbar\\qss\\week8_day1_cs\\venv\\lib\\site-packages (2.32.4)\n",
      "Requirement already satisfied: soupsieve>1.2 in c:\\shahinganbar\\qss\\week8_day1_cs\\venv\\lib\\site-packages (from beautifulsoup4) (2.7)\n",
      "Requirement already satisfied: typing-extensions>=4.0.0 in c:\\shahinganbar\\qss\\week8_day1_cs\\venv\\lib\\site-packages (from beautifulsoup4) (4.14.1)\n",
      "Requirement already satisfied: idna<4,>=2.5 in c:\\shahinganbar\\qss\\week8_day1_cs\\venv\\lib\\site-packages (from requests) (3.10)\n",
      "Requirement already satisfied: charset_normalizer<4,>=2 in c:\\shahinganbar\\qss\\week8_day1_cs\\venv\\lib\\site-packages (from requests) (3.4.2)\n",
      "Requirement already satisfied: certifi>=2017.4.17 in c:\\shahinganbar\\qss\\week8_day1_cs\\venv\\lib\\site-packages (from requests) (2025.7.14)\n",
      "Requirement already satisfied: urllib3<3,>=1.21.1 in c:\\shahinganbar\\qss\\week8_day1_cs\\venv\\lib\\site-packages (from requests) (2.5.0)\n",
      "Note: you may need to restart the kernel to use updated packages.\n"
     ]
    },
    {
     "name": "stderr",
     "output_type": "stream",
     "text": [
      "WARNING: You are using pip version 22.0.4; however, version 25.1.1 is available.\n",
      "You should consider upgrading via the 'c:\\ShahinGanbar\\QSS\\Week8_Day1_CS\\venv\\Scripts\\python.exe -m pip install --upgrade pip' command.\n"
     ]
    }
   ],
   "source": [
    "%pip install beautifulsoup4 requests \n"
   ]
  },
  {
   "cell_type": "code",
   "execution_count": null,
   "id": "e0cb7c0d",
   "metadata": {},
   "outputs": [],
   "source": [
    "from bs4 import BeautifulSoup\n",
    "import requests\n",
    "\n",
    "\n",
    "url = \"https://bina.az/\"\n",
    "\n",
    "\n",
    "headers = {\n",
    "    \"User-Agent\": \"Mozilla/5.0 (X11; Ubuntu; Linux x86_64; rv:109.0) Gecko/20100101 Firefox/117.0\"\n",
    "}\n",
    "\n",
    "response = requests.get(url)"
   ]
  },
  {
   "cell_type": "code",
   "execution_count": null,
   "id": "0c5d4b0b",
   "metadata": {},
   "outputs": [
    {
     "name": "stdout",
     "output_type": "stream",
     "text": [
      "                                            Location  \\\n",
      "0  Tbilisi prospekti ilə Azər Əliyev küçəsinin kə...   \n",
      "1  S. Əsgərova, R. Rza, Ə. Topçubaşov və Ş. Əzizb...   \n",
      "2  Yasamal r., B.Məcidov, A.Şaiq və F.İbrahimov k...   \n",
      "3            Nəsimi r., Neftçilər pr. 64 (Nəsimi r.)   \n",
      "\n",
      "                            Link  Published Date              Price  \n",
      "0  https://bina.az/residence/331      30.09.2027  4800 AZN per unit  \n",
      "1  https://bina.az/residence/310  Təhvil verilib  3000 AZN per unit  \n",
      "2  https://bina.az/residence/307            2025  2730 AZN per unit  \n",
      "3  https://bina.az/residence/322  Təhvil verilib  9642 AZN per unit  \n"
     ]
    }
   ],
   "source": [
    "import requests\n",
    "import pandas as pd\n",
    "\n",
    "url = \"https://bina.az/graphql\"\n",
    "\n",
    "payload = {\n",
    "    \"operationName\": \"InitialItems\",\n",
    "    \"variables\": {},  \n",
    "    \"extensions\": {\n",
    "        \"persistedQuery\": {\n",
    "            \"version\": 1,\n",
    "            \"sha256Hash\": \"0398d102f7eacb376914f9f039bc8139726d38d913fd1bab5b6ffe0ca56a789c\"\n",
    "        }\n",
    "    }\n",
    "}\n",
    "\n",
    "headers = {\n",
    "    \"Content-Type\": \"application/json\",\n",
    "    \"User-Agent\": \"Mozilla/5.0\",\n",
    "    \"Referer\": \"https://bina.az/\",\n",
    "    \"Origin\": \"https://bina.az\"\n",
    "}\n",
    "\n",
    "response = requests.post(url, json=payload, headers=headers)\n",
    "\n",
    "if response.status_code == 200:\n",
    "    data = response.json()\n",
    "    residences = data.get(\"data\", {}).get(\"residences\", [])\n",
    "\n",
    "    \n",
    "    locations = []\n",
    "    links = []\n",
    "    published_dates = []\n",
    "    prices = []\n",
    "\n",
    "    for res in residences:\n",
    "        \n",
    "        location = f\"{res.get('address', '')} ({res.get('shortAddress', '')})\"\n",
    "        locations.append(location)\n",
    "\n",
    "        \n",
    "        \n",
    "        link_path = res.get(\"url\")\n",
    "        if link_path:\n",
    "            link = \"https://bina.az\" + link_path\n",
    "        else:\n",
    "            \n",
    "            link = f\"https://bina.az/residence/{res.get('id', '')}\"\n",
    "        links.append(link)\n",
    "\n",
    "        \n",
    "        published_date = res.get(\"publishedAt\") or res.get(\"deadline\") or \"N/A\"\n",
    "        published_dates.append(published_date)\n",
    "\n",
    "        \n",
    "        price_info = res.get(\"price\", {})\n",
    "        currency = price_info.get(\"currency\", \"AZN\")\n",
    "        per_unit = price_info.get(\"perUnit\", None)\n",
    "        total_price = price_info.get(\"total\", {})\n",
    "        price_str = \"\"\n",
    "\n",
    "        if per_unit:\n",
    "            price_str = f\"{per_unit} {currency} per unit\"\n",
    "        elif total_price:\n",
    "            min_price = total_price.get(\"minimum\")\n",
    "            max_price = total_price.get(\"maximum\")\n",
    "            if min_price and max_price:\n",
    "                price_str = f\"{min_price} - {max_price} {currency}\"\n",
    "            elif min_price:\n",
    "                price_str = f\"{min_price} {currency}\"\n",
    "            else:\n",
    "                price_str = \"N/A\"\n",
    "        else:\n",
    "            price_str = \"N/A\"\n",
    "\n",
    "        prices.append(price_str)\n",
    "\n",
    "    \n",
    "    df = pd.DataFrame({\n",
    "        \"Location\": locations,\n",
    "        \"Link\": links,\n",
    "        \"Published Date\": published_dates,\n",
    "        \"Price\": prices\n",
    "    })\n",
    "\n",
    "    print(df)\n",
    "\n",
    "else:\n",
    "    print(f\"Failed to fetch data. Status code: {response.status_code}\")\n"
   ]
  },
  {
   "cell_type": "code",
   "execution_count": null,
   "id": "d87ea7d9",
   "metadata": {},
   "outputs": [],
   "source": []
  }
 ],
 "metadata": {
  "kernelspec": {
   "display_name": "venv",
   "language": "python",
   "name": "python3"
  },
  "language_info": {
   "codemirror_mode": {
    "name": "ipython",
    "version": 3
   },
   "file_extension": ".py",
   "mimetype": "text/x-python",
   "name": "python",
   "nbconvert_exporter": "python",
   "pygments_lexer": "ipython3",
   "version": "3.9.13"
  }
 },
 "nbformat": 4,
 "nbformat_minor": 5
}
