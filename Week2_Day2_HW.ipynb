{
  "nbformat": 4,
  "nbformat_minor": 0,
  "metadata": {
    "colab": {
      "provenance": [],
      "authorship_tag": "ABX9TyMrC4R3y4vfc19HMvbPcloz",
      "include_colab_link": true
    },
    "kernelspec": {
      "name": "python3",
      "display_name": "Python 3"
    },
    "language_info": {
      "name": "python"
    }
  },
  "cells": [
    {
      "cell_type": "markdown",
      "metadata": {
        "id": "view-in-github",
        "colab_type": "text"
      },
      "source": [
        "<a href=\"https://colab.research.google.com/github/ShahinGanbar/QSS_tasks/blob/main/Week2_Day2_HW.ipynb\" target=\"_parent\"><img src=\"https://colab.research.google.com/assets/colab-badge.svg\" alt=\"Open In Colab\"/></a>"
      ]
    },
    {
      "cell_type": "code",
      "execution_count": null,
      "metadata": {
        "id": "yy9kugCRkHW2"
      },
      "outputs": [],
      "source": [
        "import re"
      ]
    },
    {
      "cell_type": "code",
      "source": [
        "#1\n",
        "\n",
        "text1 = \"Salam necəsən nə var nə yox\"\n",
        "vowels = \"aıoueəiöü\"\n",
        "\n",
        "re.findall(r'\\b\\w*[' + vowels + r']\\w*\\b', text1)\n"
      ],
      "metadata": {
        "colab": {
          "base_uri": "https://localhost:8080/"
        },
        "id": "f5ySzMEtkNm_",
        "outputId": "540e7706-31f4-4b9e-a42b-8a6c9703dcf2"
      },
      "execution_count": null,
      "outputs": [
        {
          "output_type": "execute_result",
          "data": {
            "text/plain": [
              "['Salam', 'necəsən', 'nə', 'var', 'nə', 'yox']"
            ]
          },
          "metadata": {},
          "execution_count": 16
        }
      ]
    },
    {
      "cell_type": "code",
      "source": [
        "#2\n",
        "re.findall(r'\\b\\w+[^' + vowels + r']+[' + vowels + r']\\w*[^' + vowels + r']+\\w*\\b', text1)\n"
      ],
      "metadata": {
        "colab": {
          "base_uri": "https://localhost:8080/"
        },
        "id": "NNjAsH6RoNOC",
        "outputId": "25ccd8b9-33df-4004-819e-3bc3f1e99cf6"
      },
      "execution_count": null,
      "outputs": [
        {
          "output_type": "execute_result",
          "data": {
            "text/plain": [
              "['Salam necəsən nə', 'var nə yox']"
            ]
          },
          "metadata": {},
          "execution_count": 17
        }
      ]
    },
    {
      "cell_type": "code",
      "source": [
        "#3\n",
        "text3 = \"JASJHDUISGADIUGSAIUDHG 20222223\"\n",
        "bool(re.search(r'\\d+$', text3))\n",
        "\n"
      ],
      "metadata": {
        "colab": {
          "base_uri": "https://localhost:8080/"
        },
        "id": "50B69KtoojSq",
        "outputId": "0227a943-62a3-44df-d7a4-916c176ffa10"
      },
      "execution_count": null,
      "outputs": [
        {
          "output_type": "execute_result",
          "data": {
            "text/plain": [
              "True"
            ]
          },
          "metadata": {},
          "execution_count": 20
        }
      ]
    },
    {
      "cell_type": "code",
      "source": [
        "#4\n",
        "text4 = \"HEYYYYYYY!\"\n",
        "print(re.findall(r'\\b\\w+\\b[?!]?$', text4))\n"
      ],
      "metadata": {
        "colab": {
          "base_uri": "https://localhost:8080/"
        },
        "id": "HfRw9DFSo-3T",
        "outputId": "adf6f3a4-805e-42b5-df1a-b836ff1a869f"
      },
      "execution_count": null,
      "outputs": [
        {
          "output_type": "stream",
          "name": "stdout",
          "text": [
            "['HEYYYYYYY!']\n"
          ]
        }
      ]
    },
    {
      "cell_type": "code",
      "source": [
        "#5\n",
        "text5 = \"This is a test\"\n",
        "tabbed = text5.replace(\" \", \"\\t\")\n",
        "whitespace = tabbed.replace(\"\\t\", \" \")\n",
        "print(tabbed)\n",
        "print(whitespace)\n",
        "\n"
      ],
      "metadata": {
        "colab": {
          "base_uri": "https://localhost:8080/"
        },
        "id": "Vi2OiWvHpLbL",
        "outputId": "e501d030-d4bf-4e71-c3c5-4491752f4792"
      },
      "execution_count": null,
      "outputs": [
        {
          "output_type": "stream",
          "name": "stdout",
          "text": [
            "This\tis\ta\ttest\n",
            "This is a test\n"
          ]
        }
      ]
    },
    {
      "cell_type": "code",
      "source": [
        "#6\n",
        "text6 = \"əla ümid əhatə üfüq əkin üslub\"\n",
        "re.findall(r'\\b[əüƏÜ]\\w*', text6)"
      ],
      "metadata": {
        "colab": {
          "base_uri": "https://localhost:8080/"
        },
        "id": "kLWqY0EcpfUn",
        "outputId": "ea9c995c-c9d1-4763-b3db-a5a784d72c72"
      },
      "execution_count": null,
      "outputs": [
        {
          "output_type": "execute_result",
          "data": {
            "text/plain": [
              "['əla', 'ümid', 'əhatə', 'üfüq', 'əkin', 'üslub']"
            ]
          },
          "metadata": {},
          "execution_count": 24
        }
      ]
    },
    {
      "cell_type": "code",
      "source": [
        "#7\n",
        "text7 = \"kasjhduisahd asuhduishds hahsdsuh   ahd\"\n",
        "no_spaces = re.sub(r'\\s+', '', text7)\n",
        "print(no_spaces)\n",
        "\n"
      ],
      "metadata": {
        "colab": {
          "base_uri": "https://localhost:8080/"
        },
        "id": "u_vV_GI9pqaU",
        "outputId": "2866e969-31e2-43a8-9dac-01a87124c139"
      },
      "execution_count": null,
      "outputs": [
        {
          "output_type": "stream",
          "name": "stdout",
          "text": [
            "kasjhduisahdasuhduishdshahsdsuhahd\n"
          ]
        }
      ]
    },
    {
      "cell_type": "code",
      "source": [
        "#8\n",
        "text8 = \"Python is an amazing programming language\"\n",
        "re.findall(r'\\b\\w{5,}\\b', text8)\n"
      ],
      "metadata": {
        "colab": {
          "base_uri": "https://localhost:8080/"
        },
        "id": "W4-GGbvWpy4_",
        "outputId": "8c5e93ce-01a8-47ee-9be7-5e21cb4ad5a9"
      },
      "execution_count": null,
      "outputs": [
        {
          "output_type": "execute_result",
          "data": {
            "text/plain": [
              "['Python', 'amazing', 'programming', 'language']"
            ]
          },
          "metadata": {},
          "execution_count": 26
        }
      ]
    },
    {
      "cell_type": "code",
      "source": [
        "#9\n",
        "camel_case = \"PythonProgrammingLanguage\"\n",
        "spaced = re.sub(r'(?<!^)(?=[A-Z])', ' ', camel_case)\n",
        "print(spaced)"
      ],
      "metadata": {
        "colab": {
          "base_uri": "https://localhost:8080/"
        },
        "id": "vU2muGamp90w",
        "outputId": "bff00dc3-6c7c-45a3-9ac6-d09b3b009c46"
      },
      "execution_count": null,
      "outputs": [
        {
          "output_type": "stream",
          "name": "stdout",
          "text": [
            "Python Programming Language\n"
          ]
        }
      ]
    }
  ]
}