{
  "nbformat": 4,
  "nbformat_minor": 0,
  "metadata": {
    "colab": {
      "provenance": [],
      "authorship_tag": "ABX9TyPEnvdvmy9f04yYalc1UBrR",
      "include_colab_link": true
    },
    "kernelspec": {
      "name": "python3",
      "display_name": "Python 3"
    },
    "language_info": {
      "name": "python"
    }
  },
  "cells": [
    {
      "cell_type": "markdown",
      "metadata": {
        "id": "view-in-github",
        "colab_type": "text"
      },
      "source": [
        "<a href=\"https://colab.research.google.com/github/ShahinGanbar/QSS_tasks/blob/main/week2_day1_cs.ipynb\" target=\"_parent\"><img src=\"https://colab.research.google.com/assets/colab-badge.svg\" alt=\"Open In Colab\"/></a>"
      ]
    },
    {
      "cell_type": "markdown",
      "source": [
        "1)"
      ],
      "metadata": {
        "id": "y9x55-OKYGYt"
      }
    },
    {
      "cell_type": "code",
      "execution_count": null,
      "metadata": {
        "id": "wOGdfgkiXQXT"
      },
      "outputs": [],
      "source": [
        "import numpy as np"
      ]
    },
    {
      "cell_type": "code",
      "source": [
        "arr = np.linspace(0,1,20)\n",
        "print(arr)"
      ],
      "metadata": {
        "colab": {
          "base_uri": "https://localhost:8080/"
        },
        "id": "hXHTBzTfXcfL",
        "outputId": "808db3af-fbb0-46e9-eac8-411b58c87ef8"
      },
      "execution_count": null,
      "outputs": [
        {
          "output_type": "stream",
          "name": "stdout",
          "text": [
            "[0.         0.05263158 0.10526316 0.15789474 0.21052632 0.26315789\n",
            " 0.31578947 0.36842105 0.42105263 0.47368421 0.52631579 0.57894737\n",
            " 0.63157895 0.68421053 0.73684211 0.78947368 0.84210526 0.89473684\n",
            " 0.94736842 1.        ]\n"
          ]
        }
      ]
    },
    {
      "cell_type": "markdown",
      "source": [
        "2)"
      ],
      "metadata": {
        "id": "OUblncvLYMRu"
      }
    },
    {
      "cell_type": "code",
      "source": [
        "matrix = np.arange(1,26).reshape(5,5)\n",
        "print(matrix)"
      ],
      "metadata": {
        "colab": {
          "base_uri": "https://localhost:8080/"
        },
        "id": "syHErS2xYODU",
        "outputId": "34ac414d-f7a8-4c0d-fe49-bcb1f8236dbf"
      },
      "execution_count": null,
      "outputs": [
        {
          "output_type": "stream",
          "name": "stdout",
          "text": [
            "[[ 1  2  3  4  5]\n",
            " [ 6  7  8  9 10]\n",
            " [11 12 13 14 15]\n",
            " [16 17 18 19 20]\n",
            " [21 22 23 24 25]]\n"
          ]
        }
      ]
    },
    {
      "cell_type": "code",
      "source": [
        "\n",
        "print(matrix.sum(axis=0))"
      ],
      "metadata": {
        "colab": {
          "base_uri": "https://localhost:8080/"
        },
        "id": "Kbtf_Uw3Ydbr",
        "outputId": "fedd1546-e57b-4999-de6e-edd0eac5f8a2"
      },
      "execution_count": null,
      "outputs": [
        {
          "output_type": "stream",
          "name": "stdout",
          "text": [
            "[55 60 65 70 75]\n"
          ]
        }
      ]
    },
    {
      "cell_type": "markdown",
      "source": [
        "3)"
      ],
      "metadata": {
        "id": "SfnrIizvZPbB"
      }
    },
    {
      "cell_type": "code",
      "source": [
        "matrix2 = np.arange(0.01,1.01,0.01).reshape(10,10)\n",
        "print(matrix2)"
      ],
      "metadata": {
        "colab": {
          "base_uri": "https://localhost:8080/"
        },
        "id": "U6clbhmVZQrx",
        "outputId": "6f8b6cc4-7a65-492e-c357-49a1a9c9f5af"
      },
      "execution_count": null,
      "outputs": [
        {
          "output_type": "stream",
          "name": "stdout",
          "text": [
            "[[0.01 0.02 0.03 0.04 0.05 0.06 0.07 0.08 0.09 0.1 ]\n",
            " [0.11 0.12 0.13 0.14 0.15 0.16 0.17 0.18 0.19 0.2 ]\n",
            " [0.21 0.22 0.23 0.24 0.25 0.26 0.27 0.28 0.29 0.3 ]\n",
            " [0.31 0.32 0.33 0.34 0.35 0.36 0.37 0.38 0.39 0.4 ]\n",
            " [0.41 0.42 0.43 0.44 0.45 0.46 0.47 0.48 0.49 0.5 ]\n",
            " [0.51 0.52 0.53 0.54 0.55 0.56 0.57 0.58 0.59 0.6 ]\n",
            " [0.61 0.62 0.63 0.64 0.65 0.66 0.67 0.68 0.69 0.7 ]\n",
            " [0.71 0.72 0.73 0.74 0.75 0.76 0.77 0.78 0.79 0.8 ]\n",
            " [0.81 0.82 0.83 0.84 0.85 0.86 0.87 0.88 0.89 0.9 ]\n",
            " [0.91 0.92 0.93 0.94 0.95 0.96 0.97 0.98 0.99 1.  ]]\n"
          ]
        }
      ]
    },
    {
      "cell_type": "markdown",
      "source": [
        "4)"
      ],
      "metadata": {
        "id": "wV48rKcPZ0Wv"
      }
    },
    {
      "cell_type": "code",
      "source": [
        "data_type = np.dtype([('name','S20'),('surname','S20'),('age','i1'),('mark','f4')])\n",
        "data = np.array([('Behram','Abbasov',26,85),('Yusif','Abdullayev',22,92),('Maryam','Mecidova',19,88),('Vaqif','Hesenzade',24,79)],dtype=data_type)\n",
        "\n",
        "print(data)"
      ],
      "metadata": {
        "colab": {
          "base_uri": "https://localhost:8080/"
        },
        "id": "sSqHT9lxZ18m",
        "outputId": "e57e4470-0df8-41d4-aa40-6a4ac75d3eb5"
      },
      "execution_count": null,
      "outputs": [
        {
          "output_type": "stream",
          "name": "stdout",
          "text": [
            "[(b'Behram', b'Abbasov', 26, 85.) (b'Yusif', b'Abdullayev', 22, 92.)\n",
            " (b'Maryam', b'Mecidova', 19, 88.) (b'Vaqif', b'Hesenzade', 24, 79.)]\n"
          ]
        }
      ]
    },
    {
      "cell_type": "markdown",
      "source": [
        "5)"
      ],
      "metadata": {
        "id": "oZCgShy2bphT"
      }
    },
    {
      "cell_type": "code",
      "source": [
        "first = np.full((10, 10), 99)\n",
        "print(first)"
      ],
      "metadata": {
        "colab": {
          "base_uri": "https://localhost:8080/"
        },
        "id": "dzh-3hsJb4b2",
        "outputId": "31794954-a19a-46b6-adf4-470312069632"
      },
      "execution_count": null,
      "outputs": [
        {
          "output_type": "stream",
          "name": "stdout",
          "text": [
            "[[99 99 99 99 99 99 99 99 99 99]\n",
            " [99 99 99 99 99 99 99 99 99 99]\n",
            " [99 99 99 99 99 99 99 99 99 99]\n",
            " [99 99 99 99 99 99 99 99 99 99]\n",
            " [99 99 99 99 99 99 99 99 99 99]\n",
            " [99 99 99 99 99 99 99 99 99 99]\n",
            " [99 99 99 99 99 99 99 99 99 99]\n",
            " [99 99 99 99 99 99 99 99 99 99]\n",
            " [99 99 99 99 99 99 99 99 99 99]\n",
            " [99 99 99 99 99 99 99 99 99 99]]\n"
          ]
        }
      ]
    },
    {
      "cell_type": "code",
      "source": [
        "\n",
        "first[1:9,1:9] = 0\n",
        "print(first)"
      ],
      "metadata": {
        "colab": {
          "base_uri": "https://localhost:8080/"
        },
        "id": "ZDwjB7NqcyMO",
        "outputId": "47181d78-3d73-415e-f31f-40896e4185e1"
      },
      "execution_count": null,
      "outputs": [
        {
          "output_type": "stream",
          "name": "stdout",
          "text": [
            "[[99 99 99 99 99 99 99 99 99 99]\n",
            " [99  0  0  0  0  0  0  0  0 99]\n",
            " [99  0  0  0  0  0  0  0  0 99]\n",
            " [99  0  0  0  0  0  0  0  0 99]\n",
            " [99  0  0  0  0  0  0  0  0 99]\n",
            " [99  0  0  0  0  0  0  0  0 99]\n",
            " [99  0  0  0  0  0  0  0  0 99]\n",
            " [99  0  0  0  0  0  0  0  0 99]\n",
            " [99  0  0  0  0  0  0  0  0 99]\n",
            " [99 99 99 99 99 99 99 99 99 99]]\n"
          ]
        }
      ]
    },
    {
      "cell_type": "code",
      "source": [
        "second = first.copy()\n"
      ],
      "metadata": {
        "id": "wRq6D3hXezcL"
      },
      "execution_count": null,
      "outputs": []
    },
    {
      "cell_type": "code",
      "source": [
        "\n",
        "second[1,1] = 1\n",
        "second[8,8] = 1\n",
        "print(second)"
      ],
      "metadata": {
        "colab": {
          "base_uri": "https://localhost:8080/"
        },
        "id": "9qKO8P0Gebzw",
        "outputId": "bac74863-0a41-43a1-ef7a-bf36a3ba46a0"
      },
      "execution_count": null,
      "outputs": [
        {
          "output_type": "stream",
          "name": "stdout",
          "text": [
            "[[99 99 99 99 99 99 99 99 99 99]\n",
            " [99  1  0  0  0  0  0  0  0 99]\n",
            " [99  0  0  0  0  0  0  0  0 99]\n",
            " [99  0  0  0  0  0  0  0  0 99]\n",
            " [99  0  0  0  0  0  0  0  0 99]\n",
            " [99  0  0  0  0  0  0  0  0 99]\n",
            " [99  0  0  0  0  0  0  0  0 99]\n",
            " [99  0  0  0  0  0  0  0  0 99]\n",
            " [99  0  0  0  0  0  0  0  1 99]\n",
            " [99 99 99 99 99 99 99 99 99 99]]\n"
          ]
        }
      ]
    },
    {
      "cell_type": "code",
      "source": [
        "third = second.copy()"
      ],
      "metadata": {
        "id": "5QkTO4Eje7s-"
      },
      "execution_count": null,
      "outputs": []
    },
    {
      "cell_type": "code",
      "source": [
        "third[2:8,2:8] = 1\n",
        "print(third)"
      ],
      "metadata": {
        "colab": {
          "base_uri": "https://localhost:8080/"
        },
        "id": "CDLCUjYFfIh4",
        "outputId": "0cab4240-5f2d-4f8c-a7f9-72ced4b7c0eb"
      },
      "execution_count": null,
      "outputs": [
        {
          "output_type": "stream",
          "name": "stdout",
          "text": [
            "[[99 99 99 99 99 99 99 99 99 99]\n",
            " [99  1  0  0  0  0  0  0  0 99]\n",
            " [99  0  1  1  1  1  1  1  0 99]\n",
            " [99  0  1  1  1  1  1  1  0 99]\n",
            " [99  0  1  1  1  1  1  1  0 99]\n",
            " [99  0  1  1  1  1  1  1  0 99]\n",
            " [99  0  1  1  1  1  1  1  0 99]\n",
            " [99  0  1  1  1  1  1  1  0 99]\n",
            " [99  0  0  0  0  0  0  0  1 99]\n",
            " [99 99 99 99 99 99 99 99 99 99]]\n"
          ]
        }
      ]
    },
    {
      "cell_type": "code",
      "source": [
        "fifth = third.copy()"
      ],
      "metadata": {
        "id": "_NdqivZPfsAW"
      },
      "execution_count": null,
      "outputs": []
    },
    {
      "cell_type": "code",
      "source": [
        "fifth[3:7,3:7] = 0\n",
        "print(fifth)"
      ],
      "metadata": {
        "colab": {
          "base_uri": "https://localhost:8080/"
        },
        "id": "ItcIugKBfwC_",
        "outputId": "c4cfaf9a-06c1-4832-c488-6cd2b141a7a0"
      },
      "execution_count": null,
      "outputs": [
        {
          "output_type": "stream",
          "name": "stdout",
          "text": [
            "[[99 99 99 99 99 99 99 99 99 99]\n",
            " [99  1  0  0  0  0  0  0  0 99]\n",
            " [99  0  1  1  1  1  1  1  0 99]\n",
            " [99  0  1  0  0  0  0  1  0 99]\n",
            " [99  0  1  0  0  0  0  1  0 99]\n",
            " [99  0  1  0  0  0  0  1  0 99]\n",
            " [99  0  1  0  0  0  0  1  0 99]\n",
            " [99  0  1  1  1  1  1  1  0 99]\n",
            " [99  0  0  0  0  0  0  0  1 99]\n",
            " [99 99 99 99 99 99 99 99 99 99]]\n"
          ]
        }
      ]
    },
    {
      "cell_type": "code",
      "source": [
        "sixth = fifth.copy()\n",
        "sixth[4:6,4:6] = 1"
      ],
      "metadata": {
        "id": "2mNzUQ6UgC2G"
      },
      "execution_count": null,
      "outputs": []
    },
    {
      "cell_type": "code",
      "source": [
        "print(sixth)"
      ],
      "metadata": {
        "colab": {
          "base_uri": "https://localhost:8080/"
        },
        "id": "U0yt--DogcyS",
        "outputId": "7a28490d-81c0-432f-9bdc-87d9bd529623"
      },
      "execution_count": null,
      "outputs": [
        {
          "output_type": "stream",
          "name": "stdout",
          "text": [
            "[[99 99 99 99 99 99 99 99 99 99]\n",
            " [99  1  0  0  0  0  0  0  0 99]\n",
            " [99  0  1  1  1  1  1  1  0 99]\n",
            " [99  0  1  0  0  0  0  1  0 99]\n",
            " [99  0  1  0  1  1  0  1  0 99]\n",
            " [99  0  1  0  1  1  0  1  0 99]\n",
            " [99  0  1  0  0  0  0  1  0 99]\n",
            " [99  0  1  1  1  1  1  1  0 99]\n",
            " [99  0  0  0  0  0  0  0  1 99]\n",
            " [99 99 99 99 99 99 99 99 99 99]]\n"
          ]
        }
      ]
    },
    {
      "cell_type": "code",
      "source": [],
      "metadata": {
        "id": "jgvBJi0QgejC"
      },
      "execution_count": null,
      "outputs": []
    }
  ]
}