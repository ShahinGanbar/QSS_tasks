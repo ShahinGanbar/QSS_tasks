{
  "nbformat": 4,
  "nbformat_minor": 0,
  "metadata": {
    "colab": {
      "provenance": [],
      "authorship_tag": "ABX9TyNbUAox6blrJh8fxwiv6nOZ",
      "include_colab_link": true
    },
    "kernelspec": {
      "name": "python3",
      "display_name": "Python 3"
    },
    "language_info": {
      "name": "python"
    }
  },
  "cells": [
    {
      "cell_type": "markdown",
      "metadata": {
        "id": "view-in-github",
        "colab_type": "text"
      },
      "source": [
        "<a href=\"https://colab.research.google.com/github/ShahinGanbar/QSS_tasks/blob/main/Week7_Day1_CS.ipynb\" target=\"_parent\"><img src=\"https://colab.research.google.com/assets/colab-badge.svg\" alt=\"Open In Colab\"/></a>"
      ]
    },
    {
      "cell_type": "code",
      "execution_count": 20,
      "metadata": {
        "id": "IqKDIiLhI2Cl"
      },
      "outputs": [],
      "source": [
        "#1\n",
        "\n",
        "class Car:\n",
        "      def __init__(self,year,mpg,speed):\n",
        "              self.year = year\n",
        "              self.mpg = mpg\n",
        "              self.speed = speed\n",
        "\n",
        "#2\n",
        "      speed = 50\n",
        "      def accelerate(self):\n",
        "          self.speed += self.speed * 1.5\n",
        "          return self.speed\n",
        "\n",
        "      def break_(self):\n",
        "          self.speed -= self.speed / 2\n",
        "          return self.speed\n",
        "\n",
        "\n",
        "#3\n",
        "      def __init__(self,speed):\n",
        "          self.speed = speed\n",
        "\n",
        "\n",
        "\n"
      ]
    },
    {
      "cell_type": "code",
      "source": [
        "#4\n",
        "\n",
        "class Vehicle:\n",
        "      def __init__(self,name,wheels,speed):\n",
        "          self.name = name\n",
        "          self.wheels = wheels\n",
        "          self.speed = speed\n",
        "          print(\"Vehicle created...\")\n",
        "\n",
        "      def forward(self):\n",
        "          return \"Vehicle is going forward...\"\n",
        "\n",
        "      def backward(self):\n",
        "          return \"Vehicle is going backward...\"\n",
        "\n",
        "\n",
        "\n",
        "\n",
        "class Car(Vehicle):\n",
        "      def __init__(self,name,wheels):\n",
        "          super().name = name\n",
        "          super().wheels = wheels\n",
        "          print(\"Car created...\")\n",
        "\n",
        "\n",
        "      def accelerate(self):\n",
        "          self.speed += self.speed * 1.5\n",
        "          return self.speed\n",
        "\n",
        "      def break_(self):\n",
        "          self.speed -= self.speed / 2\n",
        "          return self.speed\n",
        "\n",
        "\n",
        "\n"
      ],
      "metadata": {
        "id": "cDbDtgvHNrVy"
      },
      "execution_count": 21,
      "outputs": []
    },
    {
      "cell_type": "code",
      "source": [
        "#5\n",
        "\n",
        "class Bus(Vehicle):\n",
        "      def __init__(self,name,wheels,speed):\n",
        "#6\n",
        "              super().name__ = name\n",
        "              super().wheels__ = wheels\n",
        "              super().speed = speed\n",
        "\n",
        "      def accelerate(self):\n",
        "          self.speed += self.speed * 1.5\n",
        "          return self.speed\n",
        "\n",
        "      def break_(self):\n",
        "          self.speed -= self.speed / 2\n",
        "          return self.speed"
      ],
      "metadata": {
        "id": "Hn_7sRhsLEGO"
      },
      "execution_count": 22,
      "outputs": []
    }
  ]
}