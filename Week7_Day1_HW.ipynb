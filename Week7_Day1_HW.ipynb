{
  "nbformat": 4,
  "nbformat_minor": 0,
  "metadata": {
    "colab": {
      "provenance": [],
      "authorship_tag": "ABX9TyOgqA6/PSO1/K2Li8XiafKQ",
      "include_colab_link": true
    },
    "kernelspec": {
      "name": "python3",
      "display_name": "Python 3"
    },
    "language_info": {
      "name": "python"
    }
  },
  "cells": [
    {
      "cell_type": "markdown",
      "metadata": {
        "id": "view-in-github",
        "colab_type": "text"
      },
      "source": [
        "<a href=\"https://colab.research.google.com/github/ShahinGanbar/QSS_tasks/blob/main/Week7_Day1_HW.ipynb\" target=\"_parent\"><img src=\"https://colab.research.google.com/assets/colab-badge.svg\" alt=\"Open In Colab\"/></a>"
      ]
    },
    {
      "cell_type": "code",
      "execution_count": null,
      "metadata": {
        "colab": {
          "base_uri": "https://localhost:8080/",
          "height": 35
        },
        "id": "pN5neF5VTIWx",
        "outputId": "e7b6d234-5a94-46ee-9253-ac358f1cb54b"
      },
      "outputs": [
        {
          "output_type": "execute_result",
          "data": {
            "text/plain": [
              "'White'"
            ],
            "application/vnd.google.colaboratory.intrinsic+json": {
              "type": "string"
            }
          },
          "metadata": {},
          "execution_count": 1
        }
      ],
      "source": [
        "#1\n",
        "class Vehicle:\n",
        "      def __init__(self,max_speed,color):\n",
        "          self.color = color\n",
        "          self.max_speed = max_speed\n",
        "\n",
        "      def info(self):\n",
        "          print(f\"Color: {self.color} Max speed:{self.max_speed}\")\n",
        "\n",
        "#2\n",
        "\n",
        "      def info(self):\n",
        "          print(f\"Color: {self.color} Max speed:{self.max_speed}\")\n",
        "\n",
        "#3\n",
        "class Car(Vehicle):\n",
        "      pass\n",
        "\n",
        "#4\n",
        "\n",
        "class Vehicle:\n",
        "      default_color = \"White\"\n",
        "\n",
        "      def __init__(self,max_speed,color):\n",
        "          self.max_speed = max_speed\n",
        "          self.color = Vehicle.default_color\n",
        "\n",
        "vehicle = Vehicle(120,color=\"Blue\")\n",
        "vehicle.default_color"
      ]
    },
    {
      "cell_type": "code",
      "source": [
        "#5\n",
        "class Vehicle:\n",
        "      def __init__(self,capacity,fare):\n",
        "          self.capacity = capacity\n",
        "          self.fare = self.capacity * 35\n",
        "\n",
        "class Train(Vehicle):\n",
        "      def __init__(self,capacity,fare):\n",
        "          self.capacity = capacity\n",
        "          self.fare = (self.capacity * 35) + ((self.capacity * 35) / 10)\n",
        "\n",
        "\n"
      ],
      "metadata": {
        "id": "T3QMjiScZi7M"
      },
      "execution_count": null,
      "outputs": []
    },
    {
      "cell_type": "code",
      "source": [
        "#6\n",
        "\n",
        "car = Car(50,\"White\")\n",
        "train = Train(40,50)\n",
        "\n",
        "\n",
        "type(car).__name__\n"
      ],
      "metadata": {
        "colab": {
          "base_uri": "https://localhost:8080/",
          "height": 35
        },
        "id": "7WV_VeoA1Csh",
        "outputId": "da6488f1-2224-40b0-f48e-d73e6616597d"
      },
      "execution_count": null,
      "outputs": [
        {
          "output_type": "execute_result",
          "data": {
            "text/plain": [
              "'Car'"
            ],
            "application/vnd.google.colaboratory.intrinsic+json": {
              "type": "string"
            }
          },
          "metadata": {},
          "execution_count": 13
        }
      ]
    },
    {
      "cell_type": "code",
      "source": [
        "type(train).__name__"
      ],
      "metadata": {
        "colab": {
          "base_uri": "https://localhost:8080/",
          "height": 35
        },
        "id": "u5ht3GKi2_L8",
        "outputId": "c51afe18-494e-4129-fd48-f18924838670"
      },
      "execution_count": null,
      "outputs": [
        {
          "output_type": "execute_result",
          "data": {
            "text/plain": [
              "'Train'"
            ],
            "application/vnd.google.colaboratory.intrinsic+json": {
              "type": "string"
            }
          },
          "metadata": {},
          "execution_count": 14
        }
      ]
    }
  ]
}